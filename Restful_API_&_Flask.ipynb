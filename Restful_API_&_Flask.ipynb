{
  "nbformat": 4,
  "nbformat_minor": 0,
  "metadata": {
    "colab": {
      "provenance": []
    },
    "kernelspec": {
      "name": "python3",
      "display_name": "Python 3"
    },
    "language_info": {
      "name": "python"
    }
  },
  "cells": [
    {
      "cell_type": "markdown",
      "source": [
        "## Restful API & Flask Assignment\n",
        "\n",
        "1. What is a RESTful API ?\n",
        "-> A RESTful API (Representational State Transfer) is an architectural style for designing networked applications.It uses standard HTTP methods2 to perform operations on resources.\n",
        "2. Explain the concept of API specification?\n",
        "-> An API specification is a document that describes how an API works, including endpoints, request/response formats, and authentication. It helps developers understand and use the API.\n",
        "3. What is Flask, and why is it popular for building APIs?\n",
        "-> Flask is a lightweight Python web framework. It's popular for APIs due to its simplicity, flexibility, and extensive extensions.\n",
        "4. What is routing in Flask?\n",
        "-> Routing maps URLs to specific functions in a Flask application, determining what code executes when a user accesses a particular URL.\n",
        "5. How do you create a simple Flask application?\n",
        "-> You import Flask, create an app instance, define routes with functions, and run the app.\n",
        "6. What are HTTP methods used in RESTful APIs?\n",
        "-> Common methods include GET (retrieve), POST (create), PUT (update), DELETE (remove).\n",
        "7. What is the purpose of the @app.route() decorator in Flask?\n",
        "-> It binds a URL to a function, defining the route.\n",
        "8. What is the difference between GET and POST HTTP methods?\n",
        "-> GET retrieves data, while POST sends data to the server for processing. GET requests should not have side effects.\n",
        "9. How do you handle errors in Flask APIs?\n",
        "-> Using try-except blocks, returning appropriate HTTP status codes, and providing error messages.\n",
        "10. How do you connect Flask to a SQL database?\n",
        "-> Using extensions like Flask-SQLAlchemy or by directly using database drivers (e.g., psycopg2 for PostgreSQL).\n",
        "11. What is the role of Flask-SQLAlchemy?\n",
        "-> It simplifies database interactions by providing an ORM (Object-Relational Mapper) for Flask.\n",
        "12. What are Flask blueprints, and how are they useful?\n",
        "-> Blueprints are modular components that organize an application into reusable parts.\n",
        "13. What is the purpose of Flask's request object?\n",
        "-> It contains data from the client's HTTP request, such as headers, form data, and query parameters.\n",
        "14. How do you create a RESTful API endpoint using Flask?\n",
        "-> Define a function, use @app.route() with the URL and HTTP method, and return a JSON response.\n",
        "15. What is the purpose of Flask's jsonify() function?\n",
        "-> It converts Python dictionaries into JSON responses.\n",
        "16. Explain Flask’s url_for() function?\n",
        "-> It generates URLs for routes based on their function names, making URL management easier.\n",
        "17. How does Flask handle static files (CSS, JavaScript, etc.)?\n",
        "-> Flask serves static files from a specified \"static\" folder.\n",
        "18. What is an API specification, and how does it help in building a Flask API?\n",
        "-> It documents the API's structure, aiding development and client integration. Tools like Swagger/OpenAPI are used.\n",
        "19. What are HTTP status codes, and why are they important in a Flask API?\n",
        "-> They indicate the result of a request (e.g., 200 OK, 404 Not Found, 500 Internal Server Error). They help clients understand the response.\n",
        "20. How do you handle POST requests in Flask?\n",
        "-> Use the POST HTTP method in @app.route(), access the request data using request.get_json() or request.form, and process it.\n",
        "21. How would you secure a Flask API?\n",
        "-> Using authentication (e.g., JWT), authorization, HTTPS, and input validation.\n",
        "22. What is the significance of the Flask-RESTful extension?\n",
        "-> It simplifies building RESTful APIs by providing resources and request parsing. Now mainly maintained by the comunity.\n",
        "23. What is the role of Flask’s session object?\n",
        "-> It stores user-specific data between requests, enabling features like login sessions."
      ],
      "metadata": {
        "id": "pvlTcuKn3HVS"
      }
    },
    {
      "cell_type": "code",
      "execution_count": null,
      "metadata": {
        "id": "2jYE__r_3EUn"
      },
      "outputs": [],
      "source": []
    },
    {
      "cell_type": "markdown",
      "source": [
        "1. How do you create a basic Flask application4"
      ],
      "metadata": {
        "id": "6vMyCS_B5TBF"
      }
    },
    {
      "cell_type": "code",
      "source": [
        "from flask import Flask\n",
        "\n",
        "app = Flask(__name__)\n",
        "\n",
        "@app.route('/')\n",
        "def hello_world():\n",
        "  return 'Hello, World!'\n",
        "\n",
        "if __name__ == '__main__':\n",
        "  app.run(debug=True)\n"
      ],
      "metadata": {
        "colab": {
          "base_uri": "https://localhost:8080/"
        },
        "id": "aRC6AYhz5bOb",
        "outputId": "236830b4-2ed7-4459-9e59-61c4e4bed284"
      },
      "execution_count": null,
      "outputs": [
        {
          "output_type": "stream",
          "name": "stdout",
          "text": [
            " * Serving Flask app '__main__'\n",
            " * Debug mode: on\n"
          ]
        },
        {
          "output_type": "stream",
          "name": "stderr",
          "text": [
            "INFO:werkzeug:\u001b[31m\u001b[1mWARNING: This is a development server. Do not use it in a production deployment. Use a production WSGI server instead.\u001b[0m\n",
            " * Running on http://127.0.0.1:5000\n",
            "INFO:werkzeug:\u001b[33mPress CTRL+C to quit\u001b[0m\n",
            "INFO:werkzeug: * Restarting with stat\n"
          ]
        }
      ]
    },
    {
      "cell_type": "markdown",
      "source": [
        "2. How do you serve static files like images or CSS in Flask."
      ],
      "metadata": {
        "id": "SBkW11NE5c7g"
      }
    },
    {
      "cell_type": "code",
      "source": [
        "from flask import Flask, send_from_directory\n",
        "\n",
        "app = Flask(__name__)\n",
        "\n",
        "# Serve static files from the 'static' directory\n",
        "@app.route('/static/<path:filename>')\n",
        "def serve_static(filename):\n",
        "  return send_from_directory('static', filename)\n",
        "\n",
        "if __name__ == '__main__':\n",
        "  app.run(debug=True)\n"
      ],
      "metadata": {
        "colab": {
          "base_uri": "https://localhost:8080/"
        },
        "id": "s7N-0T-a5o3Y",
        "outputId": "62516331-5150-4787-dd4a-768dc3b83f8e"
      },
      "execution_count": null,
      "outputs": [
        {
          "output_type": "stream",
          "name": "stdout",
          "text": [
            " * Serving Flask app '__main__'\n",
            " * Debug mode: on\n"
          ]
        },
        {
          "output_type": "stream",
          "name": "stderr",
          "text": [
            "INFO:werkzeug:\u001b[31m\u001b[1mWARNING: This is a development server. Do not use it in a production deployment. Use a production WSGI server instead.\u001b[0m\n",
            " * Running on http://127.0.0.1:5000\n",
            "INFO:werkzeug:\u001b[33mPress CTRL+C to quit\u001b[0m\n",
            "INFO:werkzeug: * Restarting with stat\n"
          ]
        }
      ]
    },
    {
      "cell_type": "markdown",
      "source": [
        "3. How do you define different routes with different HTTP methods in Flask"
      ],
      "metadata": {
        "id": "KXYhTVMR59KV"
      }
    },
    {
      "cell_type": "code",
      "source": [
        "from flask import Flask, request\n",
        "\n",
        "app = Flask(__name__)\n",
        "\n",
        "@app.route('/users', methods=['GET'])\n",
        "def get_users():\n",
        "  # Logic to retrieve users\n",
        "  return 'Getting users'\n",
        "\n",
        "@app.route('/users', methods=['POST'])\n",
        "def create_user():\n",
        "  # Logic to create a new user\n",
        "  return 'Creating user'\n",
        "\n",
        "@app.route('/users/<user_id>', methods=['PUT'])\n",
        "def update_user(user_id):\n",
        "  # Logic to update a user\n",
        "  return f'Updating user {user_id}'\n",
        "\n",
        "@app.route('/users/<user_id>', methods=['DELETE'])\n",
        "def delete_user(user_id):\n",
        "  # Logic to delete a user\n",
        "  return f'Deleting user {user_id}'\n",
        "\n",
        "if __name__ == '__main__':\n",
        "  app.run(debug=True)\n"
      ],
      "metadata": {
        "colab": {
          "base_uri": "https://localhost:8080/"
        },
        "id": "H4KAbivl6ARI",
        "outputId": "dbc91f4e-fbf0-4dab-e65f-61b119fedb9e"
      },
      "execution_count": null,
      "outputs": [
        {
          "output_type": "stream",
          "name": "stdout",
          "text": [
            " * Serving Flask app '__main__'\n",
            " * Debug mode: on\n"
          ]
        },
        {
          "output_type": "stream",
          "name": "stderr",
          "text": [
            "INFO:werkzeug:\u001b[31m\u001b[1mWARNING: This is a development server. Do not use it in a production deployment. Use a production WSGI server instead.\u001b[0m\n",
            " * Running on http://127.0.0.1:5000\n",
            "INFO:werkzeug:\u001b[33mPress CTRL+C to quit\u001b[0m\n",
            "INFO:werkzeug: * Restarting with stat\n"
          ]
        }
      ]
    },
    {
      "cell_type": "markdown",
      "source": [
        "4. How do you render HTML templates in Flask."
      ],
      "metadata": {
        "id": "_7bEnV2i6KYa"
      }
    },
    {
      "cell_type": "code",
      "source": [
        "from flask import Flask, render_template\n",
        "\n",
        "app = Flask(__name__)\n",
        "\n",
        "@app.route('/')\n",
        "def index():\n",
        "  return render_template('index.html', name='World')\n",
        "\n",
        "if __name__ == '__main__':\n",
        "  app.run(debug=True)\n"
      ],
      "metadata": {
        "colab": {
          "base_uri": "https://localhost:8080/"
        },
        "id": "5zn36_-r6RCK",
        "outputId": "052a7d7b-1edf-4192-b26d-7fa94ca13fcd"
      },
      "execution_count": null,
      "outputs": [
        {
          "output_type": "stream",
          "name": "stdout",
          "text": [
            " * Serving Flask app '__main__'\n",
            " * Debug mode: on\n"
          ]
        },
        {
          "output_type": "stream",
          "name": "stderr",
          "text": [
            "INFO:werkzeug:\u001b[31m\u001b[1mWARNING: This is a development server. Do not use it in a production deployment. Use a production WSGI server instead.\u001b[0m\n",
            " * Running on http://127.0.0.1:5000\n",
            "INFO:werkzeug:\u001b[33mPress CTRL+C to quit\u001b[0m\n",
            "INFO:werkzeug: * Restarting with stat\n"
          ]
        }
      ]
    },
    {
      "cell_type": "markdown",
      "source": [
        "5. How can you generate URLs for routes in Flask using url_for"
      ],
      "metadata": {
        "id": "jNC_YQGs6rQW"
      }
    },
    {
      "cell_type": "code",
      "source": [
        "from flask import Flask, url_for\n",
        "\n",
        "app = Flask(__name__)\n",
        "\n",
        "@app.route('/')\n",
        "def index():\n",
        "  return 'Hello, World!'\n",
        "\n",
        "@app.route('/user/<username>')\n",
        "def profile(username):\n",
        "  return f'{username}\\'s profile'\n",
        "\n",
        "with app.test_request_context():\n",
        "  print(url_for('index'))\n",
        "  print(url_for('profile', username='JohnDoe'))\n"
      ],
      "metadata": {
        "colab": {
          "base_uri": "https://localhost:8080/"
        },
        "id": "XfQAmOLV6wMm",
        "outputId": "fac3c6ed-0cf0-4099-d95d-d9e9ecadfe99"
      },
      "execution_count": null,
      "outputs": [
        {
          "output_type": "stream",
          "name": "stdout",
          "text": [
            "/\n",
            "/user/JohnDoe\n"
          ]
        }
      ]
    },
    {
      "cell_type": "markdown",
      "source": [
        "6. How do you handle forms in Flask ?\n"
      ],
      "metadata": {
        "id": "s-asJSs8qwyr"
      }
    },
    {
      "cell_type": "code",
      "source": [
        "from flask import Flask, render_template, request\n",
        "\n",
        "app = Flask(__name__)\n",
        "\n",
        "@app.route('/', methods=['GET', 'POST'])\n",
        "def index():\n",
        "    if request.method == 'POST':\n",
        "        name = request.form.get('name')\n",
        "        email = request.form.get('email')\n",
        "        return f\"Name: {name}, Email: {email}\"\n",
        "    return render_template('form.html')\n",
        "\n",
        "if __name__ == '__main__':\n",
        "    app.run(debug=True)\n"
      ],
      "metadata": {
        "colab": {
          "base_uri": "https://localhost:8080/"
        },
        "id": "LlIszXy_q2X8",
        "outputId": "fc85bf18-5a04-4636-a6c9-727e57eb6fd6"
      },
      "execution_count": 1,
      "outputs": [
        {
          "output_type": "stream",
          "name": "stdout",
          "text": [
            " * Serving Flask app '__main__'\n",
            " * Debug mode: on\n"
          ]
        },
        {
          "output_type": "stream",
          "name": "stderr",
          "text": [
            "INFO:werkzeug:\u001b[31m\u001b[1mWARNING: This is a development server. Do not use it in a production deployment. Use a production WSGI server instead.\u001b[0m\n",
            " * Running on http://127.0.0.1:5000\n",
            "INFO:werkzeug:\u001b[33mPress CTRL+C to quit\u001b[0m\n",
            "INFO:werkzeug: * Restarting with stat\n"
          ]
        }
      ]
    },
    {
      "cell_type": "markdown",
      "source": [
        "7.  How can you validate form data in Flask"
      ],
      "metadata": {
        "id": "whL5aER3q7xk"
      }
    },
    {
      "cell_type": "code",
      "source": [
        "from flask import Flask, render_template, request, redirect, url_for\n",
        "\n",
        "app = Flask(__name__)\n",
        "\n",
        "@app.route('/', methods=['GET', 'POST'])\n",
        "def index():\n",
        "    if request.method == 'POST':\n",
        "        name = request.form.get('name')\n",
        "        email = request.form.get('email')\n",
        "\n",
        "\n",
        "        if not name or not email:\n",
        "            error = \"Name and email are required.\"\n",
        "            return render_template('form.html', error=error)\n",
        "\n",
        "        if \"@\" not in email:\n",
        "            error = \"Invalid email format.\"\n",
        "            return render_template('form.html', error=error)\n",
        "\n",
        "\n",
        "        return redirect(url_for('success'))\n",
        "\n",
        "\n",
        "    return render_template('form.html')\n",
        "\n",
        "@app.route('/success')\n",
        "def success():\n",
        "    return \"Form submitted successfully!\"\n",
        "\n",
        "\n",
        "if __name__ == '__main__':\n",
        "    app.run(debug=True)\n"
      ],
      "metadata": {
        "colab": {
          "base_uri": "https://localhost:8080/"
        },
        "id": "GxNpm9plrCk6",
        "outputId": "ff3f12ba-0551-43c0-b385-9691f4300c3c"
      },
      "execution_count": 2,
      "outputs": [
        {
          "output_type": "stream",
          "name": "stdout",
          "text": [
            " * Serving Flask app '__main__'\n",
            " * Debug mode: on\n"
          ]
        },
        {
          "output_type": "stream",
          "name": "stderr",
          "text": [
            "INFO:werkzeug:\u001b[31m\u001b[1mWARNING: This is a development server. Do not use it in a production deployment. Use a production WSGI server instead.\u001b[0m\n",
            " * Running on http://127.0.0.1:5000\n",
            "INFO:werkzeug:\u001b[33mPress CTRL+C to quit\u001b[0m\n",
            "INFO:werkzeug: * Restarting with stat\n"
          ]
        }
      ]
    },
    {
      "cell_type": "markdown",
      "source": [
        "8. How do you manage sessions in Flask."
      ],
      "metadata": {
        "id": "JwlDPC14rHcE"
      }
    },
    {
      "cell_type": "code",
      "source": [
        "from flask import Flask, session, redirect, url_for, request\n",
        "\n",
        "app = Flask(__name__)\n",
        "app.secret_key = 'your_secret_key'\n",
        "\n",
        "@app.route('/')\n",
        "def index():\n",
        "    if 'username' in session:\n",
        "        username = session['username']\n",
        "        return f'Logged in as {username} <br><a href=\"/logout\">Logout</a>'\n",
        "    return 'You are not logged in <br><a href=\"/login\">Login</a>'\n",
        "\n",
        "@app.route('/login', methods=['GET', 'POST'])\n",
        "def login():\n",
        "    if request.method == 'POST':\n",
        "        session['username'] = request.form['username']\n",
        "        return redirect(url_for('index'))\n",
        "    return '''\n",
        "        <form method=\"post\">\n",
        "            <p><input type=text name=username>\n",
        "            <p><input type=submit value=Login>\n",
        "        </form>\n",
        "    '''\n",
        "\n",
        "@app.route('/logout')\n",
        "def logout():\n",
        "\n",
        "    session.pop('username', None)\n",
        "    return redirect(url_for('index'))\n",
        "\n",
        "if __name__ == '__main__':\n",
        "    app.run(debug=True)\n"
      ],
      "metadata": {
        "colab": {
          "base_uri": "https://localhost:8080/"
        },
        "id": "1BeHyl6LrT-h",
        "outputId": "8bf9584a-ba15-48c5-cad5-290fbb1f3914"
      },
      "execution_count": 3,
      "outputs": [
        {
          "output_type": "stream",
          "name": "stdout",
          "text": [
            " * Serving Flask app '__main__'\n",
            " * Debug mode: on\n"
          ]
        },
        {
          "output_type": "stream",
          "name": "stderr",
          "text": [
            "INFO:werkzeug:\u001b[31m\u001b[1mWARNING: This is a development server. Do not use it in a production deployment. Use a production WSGI server instead.\u001b[0m\n",
            " * Running on http://127.0.0.1:5000\n",
            "INFO:werkzeug:\u001b[33mPress CTRL+C to quit\u001b[0m\n",
            "INFO:werkzeug: * Restarting with stat\n"
          ]
        }
      ]
    },
    {
      "cell_type": "markdown",
      "source": [
        "9.  How do you redirect to a different route in Flask."
      ],
      "metadata": {
        "id": "T7uXMDtlrX3I"
      }
    },
    {
      "cell_type": "code",
      "source": [
        "from flask import redirect, url_for\n",
        "\n",
        "@app.route('/redirect_example')\n",
        "def redirect_example():\n",
        "    return redirect(url_for('other_route'))\n",
        "\n",
        "@app.route('/other_route')\n",
        "def other_route():\n",
        "    return \"You have been redirected!\"\n"
      ],
      "metadata": {
        "id": "jBZzVo_CrbP_"
      },
      "execution_count": 4,
      "outputs": []
    },
    {
      "cell_type": "markdown",
      "source": [
        "10. How do you handle errors in Flask (e.g., 404)"
      ],
      "metadata": {
        "id": "fBgs0AXrriqA"
      }
    },
    {
      "cell_type": "code",
      "source": [
        "from flask import Flask, render_template\n",
        "\n",
        "app = Flask(__name__)\n",
        "\n",
        "@app.route('/')\n",
        "def index():\n",
        "    return 'Hello, World!'\n",
        "\n",
        "@app.errorhandler(404)\n",
        "def page_not_found(error):\n",
        "    return render_template('404.html'), 404\n",
        "\n",
        "if __name__ == '__main__':\n",
        "    app.run(debug=True)\n"
      ],
      "metadata": {
        "colab": {
          "base_uri": "https://localhost:8080/"
        },
        "id": "xFe5Y8d0rl2f",
        "outputId": "2eb31334-2ba9-4579-99a3-0c9a872e9f13"
      },
      "execution_count": 5,
      "outputs": [
        {
          "output_type": "stream",
          "name": "stdout",
          "text": [
            " * Serving Flask app '__main__'\n",
            " * Debug mode: on\n"
          ]
        },
        {
          "output_type": "stream",
          "name": "stderr",
          "text": [
            "INFO:werkzeug:\u001b[31m\u001b[1mWARNING: This is a development server. Do not use it in a production deployment. Use a production WSGI server instead.\u001b[0m\n",
            " * Running on http://127.0.0.1:5000\n",
            "INFO:werkzeug:\u001b[33mPress CTRL+C to quit\u001b[0m\n",
            "INFO:werkzeug: * Restarting with stat\n"
          ]
        }
      ]
    },
    {
      "cell_type": "markdown",
      "source": [
        "11. How do you structure a Flask app using Blueprints"
      ],
      "metadata": {
        "id": "L-_Gg061rrRq"
      }
    },
    {
      "cell_type": "code",
      "source": [
        "\n",
        "from flask import Flask, Blueprint\n",
        "\n",
        "app = Flask(__name__)\n",
        "\n",
        "auth_bp = Blueprint('auth', __name__, url_prefix='/auth')\n",
        "blog_bp = Blueprint('blog', __name__, url_prefix='/blog')\n",
        "admin_bp = Blueprint('admin', __name__, url_prefix='/admin')\n",
        "\n",
        "\n",
        "@auth_bp.route('/login')\n",
        "def login():\n",
        "    return \"Login page\"\n",
        "\n",
        "@auth_bp.route('/register')\n",
        "def register():\n",
        "    return \"Registration page\"\n",
        "\n",
        "@blog_bp.route('/')\n",
        "def blog_index():\n",
        "    return \"Blog home page\"\n",
        "\n",
        "@blog_bp.route('/posts/<int:post_id>')\n",
        "def blog_post(post_id):\n",
        "  return f\"Blog post: {post_id}\"\n",
        "\n",
        "\n",
        "@admin_bp.route('/')\n",
        "def admin_index():\n",
        "    return \"Admin dashboard\"\n",
        "\n",
        "\n",
        "app.register_blueprint(auth_bp)\n",
        "app.register_blueprint(blog_bp)\n",
        "app.register_blueprint(admin_bp)\n",
        "\n",
        "\n",
        "if __name__ == '__main__':\n",
        "    app.run(debug=True)\n"
      ],
      "metadata": {
        "colab": {
          "base_uri": "https://localhost:8080/"
        },
        "id": "sd7qAzDNrtlp",
        "outputId": "7e518716-8d28-46df-b125-daed7fe49218"
      },
      "execution_count": 6,
      "outputs": [
        {
          "output_type": "stream",
          "name": "stdout",
          "text": [
            " * Serving Flask app '__main__'\n",
            " * Debug mode: on\n"
          ]
        },
        {
          "output_type": "stream",
          "name": "stderr",
          "text": [
            "INFO:werkzeug:\u001b[31m\u001b[1mWARNING: This is a development server. Do not use it in a production deployment. Use a production WSGI server instead.\u001b[0m\n",
            " * Running on http://127.0.0.1:5000\n",
            "INFO:werkzeug:\u001b[33mPress CTRL+C to quit\u001b[0m\n",
            "INFO:werkzeug: * Restarting with stat\n"
          ]
        }
      ]
    },
    {
      "cell_type": "markdown",
      "source": [
        "12.  How do you define a custom Jinja filter in Flask\n"
      ],
      "metadata": {
        "id": "hJz1PHIcryrr"
      }
    },
    {
      "cell_type": "code",
      "source": [
        "from flask import Flask, render_template\n",
        "\n",
        "app = Flask(__name__)\n",
        "\n",
        "@app.template_filter('reverse_string')\n",
        "def reverse_filter(s):\n",
        "    return s[::-1]\n",
        "\n",
        "@app.route('/')\n",
        "def index():\n",
        "    my_string = \"Hello, World!\"\n",
        "    return render_template('index.html', my_string=my_string)\n",
        "\n",
        "if __name__ == '__main__':\n",
        "    app.run(debug=True)\n"
      ],
      "metadata": {
        "colab": {
          "base_uri": "https://localhost:8080/"
        },
        "id": "Wq7IVn4Hr2TV",
        "outputId": "339ed16e-c27c-40b4-ad68-39e890e14d54"
      },
      "execution_count": 7,
      "outputs": [
        {
          "output_type": "stream",
          "name": "stdout",
          "text": [
            " * Serving Flask app '__main__'\n",
            " * Debug mode: on\n"
          ]
        },
        {
          "output_type": "stream",
          "name": "stderr",
          "text": [
            "INFO:werkzeug:\u001b[31m\u001b[1mWARNING: This is a development server. Do not use it in a production deployment. Use a production WSGI server instead.\u001b[0m\n",
            " * Running on http://127.0.0.1:5000\n",
            "INFO:werkzeug:\u001b[33mPress CTRL+C to quit\u001b[0m\n",
            "INFO:werkzeug: * Restarting with stat\n"
          ]
        }
      ]
    },
    {
      "cell_type": "markdown",
      "source": [
        "13.  How can you redirect with query parameters in Flask."
      ],
      "metadata": {
        "id": "1dnoFv5Br6zN"
      }
    },
    {
      "cell_type": "code",
      "source": [
        "from flask import Flask, redirect, url_for\n",
        "\n",
        "app = Flask(__name__)\n",
        "\n",
        "@app.route('/redirect_with_query')\n",
        "def redirect_with_query():\n",
        "    return redirect(url_for('target_route', param1='value1', param2='value2'))\n",
        "\n",
        "@app.route('/target')\n",
        "def target_route():\n",
        "    param1 = request.args.get('param1')\n",
        "    param2 = request.args.get('param2')\n",
        "    return f\"Target route. param1: {param1}, param2: {param2}\"\n",
        "\n",
        "if __name__ == '__main__':\n",
        "    app.run(debug=True)\n"
      ],
      "metadata": {
        "colab": {
          "base_uri": "https://localhost:8080/"
        },
        "id": "ZMkJAk3Zr-yV",
        "outputId": "294d5dd1-fb6b-4d8b-9cc2-c523cd19a6a6"
      },
      "execution_count": 8,
      "outputs": [
        {
          "output_type": "stream",
          "name": "stdout",
          "text": [
            " * Serving Flask app '__main__'\n",
            " * Debug mode: on\n"
          ]
        },
        {
          "output_type": "stream",
          "name": "stderr",
          "text": [
            "INFO:werkzeug:\u001b[31m\u001b[1mWARNING: This is a development server. Do not use it in a production deployment. Use a production WSGI server instead.\u001b[0m\n",
            " * Running on http://127.0.0.1:5000\n",
            "INFO:werkzeug:\u001b[33mPress CTRL+C to quit\u001b[0m\n",
            "INFO:werkzeug: * Restarting with stat\n"
          ]
        }
      ]
    },
    {
      "cell_type": "markdown",
      "source": [
        "14. How do you return JSON responses in Flask"
      ],
      "metadata": {
        "id": "1f-IyoSJsB3I"
      }
    },
    {
      "cell_type": "code",
      "source": [
        "from flask import Flask, jsonify\n",
        "\n",
        "app = Flask(__name__)\n",
        "\n",
        "@app.route('/json_example')\n",
        "def json_example():\n",
        "    data = {'message': 'This is a JSON response', 'key1': 'value1', 'key2': 'value2'}\n",
        "    return jsonify(data)\n",
        "\n",
        "if __name__ == '__main__':\n",
        "    app.run(debug=True)\n"
      ],
      "metadata": {
        "colab": {
          "base_uri": "https://localhost:8080/"
        },
        "id": "0oQBQ8wZsFbU",
        "outputId": "bf58a884-be3d-4bca-971b-a9030f70547d"
      },
      "execution_count": 9,
      "outputs": [
        {
          "output_type": "stream",
          "name": "stdout",
          "text": [
            " * Serving Flask app '__main__'\n",
            " * Debug mode: on\n"
          ]
        },
        {
          "output_type": "stream",
          "name": "stderr",
          "text": [
            "INFO:werkzeug:\u001b[31m\u001b[1mWARNING: This is a development server. Do not use it in a production deployment. Use a production WSGI server instead.\u001b[0m\n",
            " * Running on http://127.0.0.1:5000\n",
            "INFO:werkzeug:\u001b[33mPress CTRL+C to quit\u001b[0m\n",
            "INFO:werkzeug: * Restarting with stat\n"
          ]
        }
      ]
    },
    {
      "cell_type": "markdown",
      "source": [
        "15. How do you capture URL parameters in Flask?"
      ],
      "metadata": {
        "id": "Ig_Wf-utsIHr"
      }
    },
    {
      "cell_type": "code",
      "source": [
        "from flask import Flask, request\n",
        "\n",
        "app = Flask(__name__)\n",
        "\n",
        "@app.route('/user/<username>')\n",
        "def show_user_profile(username):\n",
        "\n",
        "    return f'User {username}'\n",
        "\n",
        "@app.route('/post/<int:post_id>')\n",
        "def show_post(post_id):\n",
        "\n",
        "    return f'Post {post_id}'\n",
        "\n",
        "@app.route('/path/<path:subpath>')\n",
        "def show_subpath(subpath):\n",
        "\n",
        "    return f'Subpath {subpath}'\n",
        "\n",
        "@app.route('/greet')\n",
        "def greet():\n",
        "    name = request.args.get('name')\n",
        "    if name:\n",
        "        return f\"Hello, {name}!\"\n",
        "    return \"Hello, stranger!\"\n",
        "\n",
        "if __name__ == '__main__':\n",
        "    app.run(debug=True)\n"
      ],
      "metadata": {
        "colab": {
          "base_uri": "https://localhost:8080/"
        },
        "id": "MHqzjtH1sSz7",
        "outputId": "3ad44555-2dce-4b92-a1ba-5c88ebb7705e"
      },
      "execution_count": 10,
      "outputs": [
        {
          "output_type": "stream",
          "name": "stdout",
          "text": [
            " * Serving Flask app '__main__'\n",
            " * Debug mode: on\n"
          ]
        },
        {
          "output_type": "stream",
          "name": "stderr",
          "text": [
            "INFO:werkzeug:\u001b[31m\u001b[1mWARNING: This is a development server. Do not use it in a production deployment. Use a production WSGI server instead.\u001b[0m\n",
            " * Running on http://127.0.0.1:5000\n",
            "INFO:werkzeug:\u001b[33mPress CTRL+C to quit\u001b[0m\n",
            "INFO:werkzeug: * Restarting with stat\n"
          ]
        }
      ]
    }
  ]
}